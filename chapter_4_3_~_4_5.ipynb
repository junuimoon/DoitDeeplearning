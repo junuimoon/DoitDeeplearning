{
  "nbformat": 4,
  "nbformat_minor": 0,
  "metadata": {
    "colab": {
      "name": "chapter 4.3 ~ 4.5",
      "provenance": [],
      "authorship_tag": "ABX9TyM5qFJTHXhfFmZliuQ2MA/t",
      "include_colab_link": true
    },
    "kernelspec": {
      "name": "python3",
      "display_name": "Python 3"
    }
  },
  "cells": [
    {
      "cell_type": "markdown",
      "metadata": {
        "id": "view-in-github",
        "colab_type": "text"
      },
      "source": [
        "<a href=\"https://colab.research.google.com/github/junuimoon/DoitDeeplearning/blob/master/chapter_4_3_~_4_5.ipynb\" target=\"_parent\"><img src=\"https://colab.research.google.com/assets/colab-badge.svg\" alt=\"Open In Colab\"/></a>"
      ]
    },
    {
      "cell_type": "code",
      "metadata": {
        "id": "lm-rbDkCYE1o",
        "colab_type": "code",
        "outputId": "d1152a46-8e80-4dc8-a44b-6293793e5c73",
        "colab": {
          "base_uri": "https://localhost:8080/",
          "height": 35
        }
      },
      "source": [
        "from sklearn.datasets import load_breast_cancer\n",
        "cancer = load_breast_cancer()\n",
        "\n",
        "print(cancer.data.shape, cancer.target.shape)"
      ],
      "execution_count": 0,
      "outputs": [
        {
          "output_type": "stream",
          "text": [
            "(569, 30) (569,)\n"
          ],
          "name": "stdout"
        }
      ]
    },
    {
      "cell_type": "code",
      "metadata": {
        "id": "F81cFYbKYOxf",
        "colab_type": "code",
        "outputId": "45c9d9d8-b8db-4212-e528-eb500e2c04ae",
        "colab": {
          "base_uri": "https://localhost:8080/",
          "height": 287
        }
      },
      "source": [
        "cancer.data[:3]"
      ],
      "execution_count": 0,
      "outputs": [
        {
          "output_type": "execute_result",
          "data": {
            "text/plain": [
              "array([[1.799e+01, 1.038e+01, 1.228e+02, 1.001e+03, 1.184e-01, 2.776e-01,\n",
              "        3.001e-01, 1.471e-01, 2.419e-01, 7.871e-02, 1.095e+00, 9.053e-01,\n",
              "        8.589e+00, 1.534e+02, 6.399e-03, 4.904e-02, 5.373e-02, 1.587e-02,\n",
              "        3.003e-02, 6.193e-03, 2.538e+01, 1.733e+01, 1.846e+02, 2.019e+03,\n",
              "        1.622e-01, 6.656e-01, 7.119e-01, 2.654e-01, 4.601e-01, 1.189e-01],\n",
              "       [2.057e+01, 1.777e+01, 1.329e+02, 1.326e+03, 8.474e-02, 7.864e-02,\n",
              "        8.690e-02, 7.017e-02, 1.812e-01, 5.667e-02, 5.435e-01, 7.339e-01,\n",
              "        3.398e+00, 7.408e+01, 5.225e-03, 1.308e-02, 1.860e-02, 1.340e-02,\n",
              "        1.389e-02, 3.532e-03, 2.499e+01, 2.341e+01, 1.588e+02, 1.956e+03,\n",
              "        1.238e-01, 1.866e-01, 2.416e-01, 1.860e-01, 2.750e-01, 8.902e-02],\n",
              "       [1.969e+01, 2.125e+01, 1.300e+02, 1.203e+03, 1.096e-01, 1.599e-01,\n",
              "        1.974e-01, 1.279e-01, 2.069e-01, 5.999e-02, 7.456e-01, 7.869e-01,\n",
              "        4.585e+00, 9.403e+01, 6.150e-03, 4.006e-02, 3.832e-02, 2.058e-02,\n",
              "        2.250e-02, 4.571e-03, 2.357e+01, 2.553e+01, 1.525e+02, 1.709e+03,\n",
              "        1.444e-01, 4.245e-01, 4.504e-01, 2.430e-01, 3.613e-01, 8.758e-02]])"
            ]
          },
          "metadata": {
            "tags": []
          },
          "execution_count": 2
        }
      ]
    },
    {
      "cell_type": "code",
      "metadata": {
        "id": "LHOK0SizYTo7",
        "colab_type": "code",
        "outputId": "72c17561-2441-45af-c1ab-cf153da46d7c",
        "colab": {
          "base_uri": "https://localhost:8080/",
          "height": 279
        }
      },
      "source": [
        "import numpy as np\n",
        "import matplotlib.pyplot as plt\n",
        "\n",
        "plt.boxplot(cancer.data)\n",
        "plt.xlabel('feature')\n",
        "plt.ylabel('value')\n",
        "plt.show()"
      ],
      "execution_count": 0,
      "outputs": [
        {
          "output_type": "display_data",
          "data": {
            "image/png": "[encoded data removed]",
            "text/plain": [
              "<Figure size 432x288 with 1 Axes>"
            ]
          },
          "metadata": {
            "tags": []
          }
        }
      ]
    },
    {
      "cell_type": "code",
      "metadata": {
        "id": "JrrrjhXwYi2Z",
        "colab_type": "code",
        "outputId": "44423b03-391f-4b88-afca-d47a482efff1",
        "colab": {
          "base_uri": "https://localhost:8080/",
          "height": 35
        }
      },
      "source": [
        "cancer.feature_names[[3, 13, 23]]"
      ],
      "execution_count": 0,
      "outputs": [
        {
          "output_type": "execute_result",
          "data": {
            "text/plain": [
              "array(['mean area', 'area error', 'worst area'], dtype='<U23')"
            ]
          },
          "metadata": {
            "tags": []
          },
          "execution_count": 7
        }
      ]
    },
    {
      "cell_type": "code",
      "metadata": {
        "id": "ZDx3BfVPYsT4",
        "colab_type": "code",
        "outputId": "dd4aa661-11d7-48c4-f44d-8742aec4f371",
        "colab": {
          "base_uri": "https://localhost:8080/",
          "height": 35
        }
      },
      "source": [
        "np.unique(cancer.target, return_counts = True)"
      ],
      "execution_count": 0,
      "outputs": [
        {
          "output_type": "execute_result",
          "data": {
            "text/plain": [
              "(array([0, 1]), array([212, 357]))"
            ]
          },
          "metadata": {
            "tags": []
          },
          "execution_count": 8
        }
      ]
    },
    {
      "cell_type": "code",
      "metadata": {
        "id": "5iGApBNLY7Yw",
        "colab_type": "code",
        "colab": {}
      },
      "source": [
        "# 0,1 두 가지의 타겟데이터만 존재, 그리고 두번째 어레이에서는 212개의 음성클래스와 357개의 양성클래스가 존재하고 있다는 것을 알려줌"
      ],
      "execution_count": 0,
      "outputs": []
    },
    {
      "cell_type": "code",
      "metadata": {
        "id": "PuV7RifiZRSw",
        "colab_type": "code",
        "colab": {}
      },
      "source": [
        "x = cancer.data\n",
        "y = cancer.target\n"
      ],
      "execution_count": 0,
      "outputs": []
    },
    {
      "cell_type": "markdown",
      "metadata": {
        "id": "lVMvR_JwZlK4",
        "colab_type": "text"
      },
      "source": [
        "사이킷런 이용하여 데이터 샘플 나누기"
      ]
    },
    {
      "cell_type": "code",
      "metadata": {
        "id": "FQftiORzZoIe",
        "colab_type": "code",
        "colab": {}
      },
      "source": [
        "from sklearn.model_selection import train_test_split\n",
        "\n",
        "x_train, x_test, y_train, y_test = train_test_split(x, y, stratify=y, test_size = 0.2, random_state=42)"
      ],
      "execution_count": 0,
      "outputs": []
    },
    {
      "cell_type": "code",
      "metadata": {
        "id": "PXAy64fiZ7LF",
        "colab_type": "code",
        "colab": {}
      },
      "source": [
        "# stratify=y \n",
        "#훈련 데이터를 나눌 때 클래스의 비율을 동일하게 만든다. \n",
        "#test_size = 0.2\n",
        "# 훈련 데이터 쪼개는 함수는 기본적으로 3:1 비율로 쪼개는데, 이때 이 변수를 입력해서 조정할 수 있다. 위 사례는 20%만이 테스트 세트로 변환된다.\n"
      ],
      "execution_count": 0,
      "outputs": []
    },
    {
      "cell_type": "code",
      "metadata": {
        "id": "_p9iYyNCaRfz",
        "colab_type": "code",
        "outputId": "76f77a6d-4aa1-446b-a66e-41a8b9f4e140",
        "colab": {
          "base_uri": "https://localhost:8080/",
          "height": 35
        }
      },
      "source": [
        "print(x_train.shape, x_test.shape)"
      ],
      "execution_count": 0,
      "outputs": [
        {
          "output_type": "stream",
          "text": [
            "(455, 30) (114, 30)\n"
          ],
          "name": "stdout"
        }
      ]
    },
    {
      "cell_type": "code",
      "metadata": {
        "id": "CpxhmSZPaVq2",
        "colab_type": "code",
        "outputId": "2864c77a-8138-4155-8282-f17479bb2def",
        "colab": {
          "base_uri": "https://localhost:8080/",
          "height": 35
        }
      },
      "source": [
        "#unique함수로 훈련 세트의 타깃 확인하기\n",
        "np.unique(y_train, return_counts=True)"
      ],
      "execution_count": 0,
      "outputs": [
        {
          "output_type": "execute_result",
          "data": {
            "text/plain": [
              "(array([0, 1]), array([170, 285]))"
            ]
          },
          "metadata": {
            "tags": []
          },
          "execution_count": 13
        }
      ]
    },
    {
      "cell_type": "markdown",
      "metadata": {
        "id": "JjSEWhOIae5n",
        "colab_type": "text"
      },
      "source": [
        "로지스틱 회귀 구현하기"
      ]
    },
    {
      "cell_type": "code",
      "metadata": {
        "id": "HQvZbF_jaksL",
        "colab_type": "code",
        "colab": {}
      },
      "source": [
        "class LogisticNeuron:\n",
        "\n",
        "    def __init__(self):  # 입력 데이터의 특성이 많아서 미리 초기화하지 않은 상황임. 나중에 특성을 보고 결정할 것.\n",
        "        self.w = None\n",
        "        self.b = None\n",
        "    \n",
        "    def forpass(self, x):\n",
        "        z = np.sum(x * self.w + self.b)\n",
        "        return z\n",
        "\n",
        "    def backprop(self, x, err):\n",
        "        w_grad = x * err\n",
        "        b_grad = 1 * err\n",
        "        return w_grad, b_grad\n",
        "\n"
      ],
      "execution_count": 0,
      "outputs": []
    },
    {
      "cell_type": "markdown",
      "metadata": {
        "id": "XlPpi1B_amw5",
        "colab_type": "text"
      },
      "source": [
        "훈련하는 메서드 구현하기\n",
        "\n",
        "1. fit 메서드, 2. activation 메서드"
      ]
    },
    {
      "cell_type": "code",
      "metadata": {
        "id": "VNNHxlPbbOE6",
        "colab_type": "code",
        "colab": {}
      },
      "source": [
        "# fit 메서드는 기본적으로 뉴런 클래스와 비슷한 형식임. 하지만 활성화 함수가 추가된 것이 차이점.\n",
        "\n",
        "def fit(self, x, y, epochs=100):                           \n",
        "    self.w = np.ones(x.shape[1])                            # 가중치 초기화\n",
        "    self.b = 0                                              # 절편 초기화\n",
        "    for i in range(epochs):                                 # epochs만큼 반복\n",
        "        for x_i, y_i in zip(x, y):                          # 모든 샘플에 대해 반복\n",
        "            z = self.forpass(x_i)                           # 정방향 계산\n",
        "            a = self.activation(z)                          # 활성화 함수\n",
        "            err = -(y_i - a)                                # 오차 계산\n",
        "            w_grad, b_grad = self.backprop(x_i, err)        # 역방향 계산\n",
        "            self.w -= w_grad                                # 가중치 업데이트\n",
        "            self.b -= b_grad                                # 절편 업데이트\n",
        "\n"
      ],
      "execution_count": 0,
      "outputs": []
    },
    {
      "cell_type": "code",
      "metadata": {
        "id": "tTYEOTzccCme",
        "colab_type": "code",
        "colab": {}
      },
      "source": [
        "def activation(self, z):\n",
        "    a = 1 / ( 1 + np.exp(-z))\n",
        "    return a"
      ],
      "execution_count": 0,
      "outputs": []
    },
    {
      "cell_type": "markdown",
      "metadata": {
        "id": "SiMvj2jvcKjk",
        "colab_type": "text"
      },
      "source": [
        "예측하는 메서드 구현하기\n",
        "\n",
        "predict 메서드 구현하기"
      ]
    },
    {
      "cell_type": "code",
      "metadata": {
        "id": "nVkef4cKcT1M",
        "colab_type": "code",
        "colab": {}
      },
      "source": [
        "def predict(self,x):\n",
        "    z = [self.forpass(x_i) for x_i in x]        #리스트 내포문으로, x의 행을 하나씩 꺼내어 곧바로 forpass 메서드에 적용하고, 결과를 이용하여 새 리스트로 만드는 과정.\n",
        "    a = self.activation(np.array(z))\n",
        "    return a > 0.5"
      ],
      "execution_count": 0,
      "outputs": []
    },
    {
      "cell_type": "markdown",
      "metadata": {
        "id": "Q6wjBUwBcudn",
        "colab_type": "text"
      },
      "source": [
        "최종본!"
      ]
    },
    {
      "cell_type": "code",
      "metadata": {
        "id": "oDl7nnJSc0Ak",
        "colab_type": "code",
        "colab": {}
      },
      "source": [
        "class LogisticNeuron:\n",
        "\n",
        "    def __init__(self):  # 입력 데이터의 특성이 많아서 미리 초기화하지 않은 상황임. 나중에 특성을 보고 결정할 것.\n",
        "        self.w = None\n",
        "        self.b = None\n",
        "    \n",
        "    def forpass(self, x):\n",
        "        z = np.sum(x * self.w + self.b)\n",
        "        return z\n",
        "\n",
        "    def backprop(self, x, err):\n",
        "        w_grad = x * err\n",
        "        b_grad = 1 * err\n",
        "        return w_grad, b_grad\n",
        "\n",
        "    def fit(self, x, y, epochs=100):                           \n",
        "        self.w = np.ones(x.shape[1])                            # 가중치 초기화\n",
        "        self.b = 0                                              # 절편 초기화\n",
        "        for i in range(epochs):                                 # epochs만큼 반복\n",
        "            for x_i, y_i in zip(x, y):                          # 모든 샘플에 대해 반복\n",
        "                z = self.forpass(x_i)                           # 정방향 계산\n",
        "                a = self.activation(z)                          # 활성화 함수\n",
        "                err = -(y_i - a)                                # 오차 계산\n",
        "                w_grad, b_grad = self.backprop(x_i, err)        # 역방향 계산\n",
        "                self.w -= w_grad                                # 가중치 업데이트\n",
        "                self.b -= b_grad                                # 절편 업데이트\n",
        "\n",
        "    def activation(self, z):\n",
        "        a = 1 / ( 1 + np.exp(-z))\n",
        "        return a\n",
        "\n",
        "\n",
        "    def predict(self,x):\n",
        "        z = [self.forpass(x_i) for x_i in x]        #리스트 내포문으로, x의 행을 하나씩 꺼내어 곧바로 forpass 메서드에 적용하고, 결과를 이용하여 새 리스트로 만드는 과정.\n",
        "        a = self.activation(np.array(z))\n",
        "        return a > 0.5"
      ],
      "execution_count": 0,
      "outputs": []
    },
    {
      "cell_type": "markdown",
      "metadata": {
        "id": "fSM1tmX5c_ZD",
        "colab_type": "text"
      },
      "source": [
        "로지스틱 회귀 모델 훈련시키기"
      ]
    },
    {
      "cell_type": "code",
      "metadata": {
        "id": "VQ_wI4SZdOut",
        "colab_type": "code",
        "outputId": "32a96be7-84b0-42e5-d454-4420f0f9dbf6",
        "colab": {
          "base_uri": "https://localhost:8080/",
          "height": 35
        }
      },
      "source": [
        "#1. 모델 훈련시키기\n",
        "\n",
        "neuron = LogisticNeuron()\n",
        "neuron.fit(x_train, y_train)"
      ],
      "execution_count": 0,
      "outputs": [
        {
          "output_type": "stream",
          "text": [
            "/usr/local/lib/python3.6/dist-packages/ipykernel_launcher.py:29: RuntimeWarning: overflow encountered in exp\n"
          ],
          "name": "stderr"
        }
      ]
    },
    {
      "cell_type": "code",
      "metadata": {
        "id": "D8JlsbifdatO",
        "colab_type": "code",
        "outputId": "45a973c1-4a77-42f1-bc9c-8575df5ac6e5",
        "colab": {
          "base_uri": "https://localhost:8080/",
          "height": 53
        }
      },
      "source": [
        "#2. 테스트 세트 사용해 모델의 정확도 평가하기\n",
        "\n",
        "np.mean(neuron.predict(x_test) == y_test)       #mean은 넘파이 배열의 평균값을 계산함. 즉 계산 결과 0.82가 나왔다는 것은 올바르게 예측한 샘플의 비율을 뜻하므로, 정확도가 82퍼센트란 소리임."
      ],
      "execution_count": 0,
      "outputs": [
        {
          "output_type": "stream",
          "text": [
            "/usr/local/lib/python3.6/dist-packages/ipykernel_launcher.py:29: RuntimeWarning: overflow encountered in exp\n"
          ],
          "name": "stderr"
        },
        {
          "output_type": "execute_result",
          "data": {
            "text/plain": [
              "0.8245614035087719"
            ]
          },
          "metadata": {
            "tags": []
          },
          "execution_count": 24
        }
      ]
    },
    {
      "cell_type": "code",
      "metadata": {
        "id": "111KeVeHdoXv",
        "colab_type": "code",
        "colab": {}
      },
      "source": [
        "import numpy as np\n",
        "import matplotlib.pyplot as plt\n",
        "from sklearn.model_selection import train_test_split\n",
        "\n",
        "from sklearn.datasets import load_breast_cancer\n",
        "cancer = load_breast_cancer()\n",
        "x = cancer.data\n",
        "y = cancer.target\n",
        "from sklearn.model_selection import train_test_split\n",
        "\n",
        "x_train, x_test, y_train, y_test = train_test_split(x, y, stratify=y, test_size = 0.2, random_state=42)\n",
        "\n",
        "\n",
        "class SingleLayer:\n",
        "\n",
        "    def __init__(self): \n",
        "        self.w = None\n",
        "        self.b = None\n",
        "        self.lossess = []\n",
        "    \n",
        "    def forpass(self, x):\n",
        "        z = np.sum(x * self.w + self.b)                                         #직선 방정식 계산\n",
        "        return z\n",
        "\n",
        "    def backprop(self, x, err):\n",
        "        w_grad = x * err                                                        # 가중치에 대한 그레디언트 계산\n",
        "        b_grad = 1 * err                                                        # 절편에 대한 그레디언트 계산\n",
        "        return w_grad, b_grad\n",
        "\n",
        "    def add_bias(self, x):                                                      # 행렬의 맨 앞에 1로 채워진 열 벡터를 추가한다.\n",
        "        return np.c_[np.ones((x.shape[0], 1)), x]\n",
        "\n",
        "    def fit(self, x, y, epochs=100):                                            \n",
        "        self.w = np.ones(x.shape[1])                                            # 가중치를 초기화한다.           \n",
        "        self.b = 0                                                              # 절편을 초기화한다.\n",
        "        for i in range(epochs):\n",
        "            loss = 0\n",
        "            indexes = np.random.permutatuon(np.arange(len(x)))                  # 인덱스를 섞는다.\n",
        "            for i in indexes:                                                    \n",
        "                z = self.forpass(x[i])                                      # 정방향 계산                   \n",
        "                a = self.activation(z)                                      # 활성화 함수 적용\n",
        "                err = -(y[i] - a)                                           # 오차 계산\n",
        "                w_grad, b_grad = self.backprop(x[i], err)                   # 역방향 계산\n",
        "                self.w -= w_grad                                            # 가중치 업데이트\n",
        "                self.b -= b_grad                                            # 절편 업데이트\n",
        "                a = np.clip(a, 1e-10, 1-1e-10)                              # 안전한 로그 게산을 위해서 클리핑한 후에 손실을 누적한다.\n",
        "                loss += -(y[i]*np.log(a)+(1-y[i])*np.log(1-a))              # 에포크마다 평균 손실을 저장한다.\n",
        "            self.losses.append(loss/len(y))\n",
        "        \n",
        "    def activation(self, z):\n",
        "        a = 1 / ( 1 + np.exp(-z))\n",
        "        return a\n",
        "\n",
        "\n",
        "    def predict(self,x):\n",
        "        z = [self.forpass(x_i) for x_i in x]                                    # 정방향 계산\n",
        "        return np.array(z) > 0                                                  # 스텝 함수 적용\n",
        "       \n",
        "    def score(self, x, y):\n",
        "        return np.mean(self.predict(x) == y)"
      ],
      "execution_count": 0,
      "outputs": []
    },
    {
      "cell_type": "code",
      "metadata": {
        "id": "rkxaOKt1qGaW",
        "colab_type": "code",
        "colab": {
          "base_uri": "https://localhost:8080/",
          "height": 334
        },
        "outputId": "6689d12f-b0d9-47f5-984d-967e739af758"
      },
      "source": [
        "layer = SingleLayer()\n",
        "layer.fit(x_train, y_train)\n",
        "layer.score(x_test, y_test)"
      ],
      "execution_count": 7,
      "outputs": [
        {
          "output_type": "error",
          "ename": "AttributeError",
          "evalue": "ignored",
          "traceback": [
            "\u001b[0;31m---------------------------------------------------------------------------\u001b[0m",
            "\u001b[0;31mAttributeError\u001b[0m                            Traceback (most recent call last)",
            "\u001b[0;32m<ipython-input-7-6ed96b504509>\u001b[0m in \u001b[0;36m<module>\u001b[0;34m()\u001b[0m\n\u001b[1;32m      1\u001b[0m \u001b[0mlayer\u001b[0m \u001b[0;34m=\u001b[0m \u001b[0mSingleLayer\u001b[0m\u001b[0;34m(\u001b[0m\u001b[0;34m)\u001b[0m\u001b[0;34m\u001b[0m\u001b[0;34m\u001b[0m\u001b[0m\n\u001b[0;32m----> 2\u001b[0;31m \u001b[0mlayer\u001b[0m\u001b[0;34m.\u001b[0m\u001b[0mfit\u001b[0m\u001b[0;34m(\u001b[0m\u001b[0mx_train\u001b[0m\u001b[0;34m,\u001b[0m \u001b[0my_train\u001b[0m\u001b[0;34m)\u001b[0m\u001b[0;34m\u001b[0m\u001b[0;34m\u001b[0m\u001b[0m\n\u001b[0m\u001b[1;32m      3\u001b[0m \u001b[0mlayer\u001b[0m\u001b[0;34m.\u001b[0m\u001b[0mscore\u001b[0m\u001b[0;34m(\u001b[0m\u001b[0mx_test\u001b[0m\u001b[0;34m,\u001b[0m \u001b[0my_test\u001b[0m\u001b[0;34m)\u001b[0m\u001b[0;34m\u001b[0m\u001b[0;34m\u001b[0m\u001b[0m\n",
            "\u001b[0;32m<ipython-input-5-0b78c6fe17b7>\u001b[0m in \u001b[0;36mfit\u001b[0;34m(self, x, y, epochs)\u001b[0m\n\u001b[1;32m     36\u001b[0m         \u001b[0;32mfor\u001b[0m \u001b[0mi\u001b[0m \u001b[0;32min\u001b[0m \u001b[0mrange\u001b[0m\u001b[0;34m(\u001b[0m\u001b[0mepochs\u001b[0m\u001b[0;34m)\u001b[0m\u001b[0;34m:\u001b[0m\u001b[0;34m\u001b[0m\u001b[0;34m\u001b[0m\u001b[0m\n\u001b[1;32m     37\u001b[0m             \u001b[0mloss\u001b[0m \u001b[0;34m=\u001b[0m \u001b[0;36m0\u001b[0m\u001b[0;34m\u001b[0m\u001b[0;34m\u001b[0m\u001b[0m\n\u001b[0;32m---> 38\u001b[0;31m             \u001b[0mindexes\u001b[0m \u001b[0;34m=\u001b[0m \u001b[0mnp\u001b[0m\u001b[0;34m.\u001b[0m\u001b[0mrandom\u001b[0m\u001b[0;34m.\u001b[0m\u001b[0mpermutatuon\u001b[0m\u001b[0;34m(\u001b[0m\u001b[0mnp\u001b[0m\u001b[0;34m.\u001b[0m\u001b[0marange\u001b[0m\u001b[0;34m(\u001b[0m\u001b[0mlen\u001b[0m\u001b[0;34m(\u001b[0m\u001b[0mx\u001b[0m\u001b[0;34m)\u001b[0m\u001b[0;34m)\u001b[0m\u001b[0;34m)\u001b[0m                  \u001b[0;31m# 인덱스를 섞는다.\u001b[0m\u001b[0;34m\u001b[0m\u001b[0;34m\u001b[0m\u001b[0m\n\u001b[0m\u001b[1;32m     39\u001b[0m             \u001b[0;32mfor\u001b[0m \u001b[0mi\u001b[0m \u001b[0;32min\u001b[0m \u001b[0mindexes\u001b[0m\u001b[0;34m:\u001b[0m\u001b[0;34m\u001b[0m\u001b[0;34m\u001b[0m\u001b[0m\n\u001b[1;32m     40\u001b[0m                 \u001b[0mz\u001b[0m \u001b[0;34m=\u001b[0m \u001b[0mself\u001b[0m\u001b[0;34m.\u001b[0m\u001b[0mforpass\u001b[0m\u001b[0;34m(\u001b[0m\u001b[0mx\u001b[0m\u001b[0;34m[\u001b[0m\u001b[0mi\u001b[0m\u001b[0;34m]\u001b[0m\u001b[0;34m)\u001b[0m                                      \u001b[0;31m# 정방향 계산\u001b[0m\u001b[0;34m\u001b[0m\u001b[0;34m\u001b[0m\u001b[0m\n",
            "\u001b[0;31mAttributeError\u001b[0m: module 'numpy.random' has no attribute 'permutatuon'"
          ]
        }
      ]
    },
    {
      "cell_type": "code",
      "metadata": {
        "id": "q_mbqurCqN8Q",
        "colab_type": "code",
        "colab": {}
      },
      "source": [
        ""
      ],
      "execution_count": 0,
      "outputs": []
    }
  ]
}