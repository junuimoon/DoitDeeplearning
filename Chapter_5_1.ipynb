{
  "nbformat": 4,
  "nbformat_minor": 0,
  "metadata": {
    "colab": {
      "name": "Chapter 5.1",
      "provenance": [],
      "authorship_tag": "ABX9TyOGXe9YlWesRnnO8k98eHl9",
      "include_colab_link": true
    },
    "kernelspec": {
      "name": "python3",
      "display_name": "Python 3"
    }
  },
  "cells": [
    {
      "cell_type": "markdown",
      "metadata": {
        "id": "view-in-github",
        "colab_type": "text"
      },
      "source": [
        "<a href=\"https://colab.research.google.com/github/junuimoon/DoitDeeplearning/blob/master/Chapter_5_1.ipynb\" target=\"_parent\"><img src=\"https://colab.research.google.com/assets/colab-badge.svg\" alt=\"Open In Colab\"/></a>"
      ]
    },
    {
      "cell_type": "code",
      "metadata": {
        "id": "y7FHnlvv-hGr",
        "colab_type": "code",
        "colab": {}
      },
      "source": [
        "import numpy as np\n",
        "import matplotlib.pyplot as plt\n",
        "from sklearn.datasets import load_breast_cancer\n",
        "from sklearn.model_selection import train_test_split\n",
        "cancer = load_breast_cancer()\n",
        "x = cancer.data\n",
        "y = cancer.target\n",
        "x_train_all, x_test, y_train_all, y_test = train_test_split(x, y, stratify=y, test_size = 0.2, random_state = 42)"
      ],
      "execution_count": 0,
      "outputs": []
    },
    {
      "cell_type": "code",
      "metadata": {
        "id": "PoYQMTk0_NgK",
        "colab_type": "code",
        "colab": {
          "base_uri": "https://localhost:8080/",
          "height": 35
        },
        "outputId": "075a9ee8-6177-4a04-fa5d-f04bd878deb0"
      },
      "source": [
        "from sklearn.linear_model import SGDClassifier\n",
        "sgd = SGDClassifier(loss='log', random_state=42)\n",
        "sgd.fit(x_train_all, y_train_all)\n",
        "sgd.score(x_test, y_test)"
      ],
      "execution_count": 4,
      "outputs": [
        {
          "output_type": "execute_result",
          "data": {
            "text/plain": [
              "0.8333333333333334"
            ]
          },
          "metadata": {
            "tags": []
          },
          "execution_count": 4
        }
      ]
    },
    {
      "cell_type": "markdown",
      "metadata": {
        "id": "c6ZRUP58_nJg",
        "colab_type": "text"
      },
      "source": [
        "loss 변수를 'hinge'로 바꾸게 되면, SVM(서포트 벡터 머신) 문제를 푸는 모델로 만들어진다."
      ]
    },
    {
      "cell_type": "code",
      "metadata": {
        "colab_type": "code",
        "outputId": "b25ea1f1-14cb-4446-feba-1b5bcb59b072",
        "id": "G9-luKOaAEPW",
        "colab": {
          "base_uri": "https://localhost:8080/",
          "height": 35
        }
      },
      "source": [
        "from sklearn.linear_model import SGDClassifier\n",
        "sgd = SGDClassifier(loss='hinge', random_state=42)\n",
        "sgd.fit(x_train_all, y_train_all)\n",
        "sgd.score(x_test, y_test)"
      ],
      "execution_count": 5,
      "outputs": [
        {
          "output_type": "execute_result",
          "data": {
            "text/plain": [
              "0.9385964912280702"
            ]
          },
          "metadata": {
            "tags": []
          },
          "execution_count": 5
        }
      ]
    },
    {
      "cell_type": "markdown",
      "metadata": {
        "id": "Jz6Qo7ZFAIzX",
        "colab_type": "text"
      },
      "source": [
        "테스트 세트로 모델을 튜닝하면 실전에서 좋은 성능을 기대하기 어렵다.\n",
        "\n",
        "왜? 아이에게 덧셈 문제의 답안지를 외우게 한것처럼, 테스트 세트에서만 좋은 성적을 낼 가능성이 있기 떄문.\n",
        "\n",
        "\n",
        "그렇다면?\n",
        "\n",
        "검증세트를 준비하면 됨! (테스트 세트는 한번 정도만 써서 사용하면 됨)\n",
        "\n",
        "훈련세트의 비중을 80퍼센트에서 60퍼센트로 낮추고, 검증세트에 20퍼센트를 할당하자"
      ]
    },
    {
      "cell_type": "code",
      "metadata": {
        "id": "GaXchtxrAj2t",
        "colab_type": "code",
        "colab": {
          "base_uri": "https://localhost:8080/",
          "height": 35
        },
        "outputId": "28cd4643-9e2d-4282-c0e3-42d40e45525d"
      },
      "source": [
        "import numpy as np\n",
        "import matplotlib.pyplot as plt\n",
        "from sklearn.datasets import load_breast_cancer\n",
        "from sklearn.model_selection import train_test_split\n",
        "cancer = load_breast_cancer()\n",
        "x = cancer.data\n",
        "y = cancer.target\n",
        "x_train_all, x_test, y_train_all, y_test = train_test_split(x, y, stratify=y, test_size = 0.2, random_state = 42)       #여기서 훈련세트와 테스트 세트를 8:2로 분할했음.\n",
        "\n",
        "x_train, x_val, y_train, y_val = train_test_split(x_train_all, y_train_all, stratify=y_train_all, test_size = 0.2, random_state = 42)\n",
        "\n",
        "print(len(x_train), len(x_val))"
      ],
      "execution_count": 6,
      "outputs": [
        {
          "output_type": "stream",
          "text": [
            "364 91\n"
          ],
          "name": "stdout"
        }
      ]
    },
    {
      "cell_type": "code",
      "metadata": {
        "id": "3B2aANdvC9D1",
        "colab_type": "code",
        "colab": {
          "base_uri": "https://localhost:8080/",
          "height": 35
        },
        "outputId": "5c3f837e-7b69-4490-9b87-032898a3aeb2"
      },
      "source": [
        "sgd = SGDClassifier(loss = 'log', random_state=42)\n",
        "sgd.fit(x_train, y_train)\n",
        "sgd.score(x_val, y_val)                             # 앞의 실습에서 얻은 평가 점수보다 낮아졌음 ( 훈련 세트의 크기가 줄어들었기 때문!)"
      ],
      "execution_count": 8,
      "outputs": [
        {
          "output_type": "execute_result",
          "data": {
            "text/plain": [
              "0.6923076923076923"
            ]
          },
          "metadata": {
            "tags": []
          },
          "execution_count": 8
        }
      ]
    },
    {
      "cell_type": "markdown",
      "metadata": {
        "id": "CwUPmINIDRnk",
        "colab_type": "text"
      },
      "source": [
        "데이터 전처리와 특성의 스케일 알아보기\n",
        "\n",
        "실제 데이터들은 가공되지 않고, 날 것들의 정보들이 많기 때문에 데이터들이 균일하지 않은 경우가 많다. \n",
        "\n",
        "이러한 데이터들을 적절히 가공하는 과정을 데이터 전처리라고 한다.\n"
      ]
    },
    {
      "cell_type": "markdown",
      "metadata": {
        "id": "vJCEwF2cDgmk",
        "colab_type": "text"
      },
      "source": [
        "예를 들어 사과의 당도가 1에서 10 사이고, 사과의 무게가 500에서 1000이라고 하면, 이러한 경우엔 스케일의 차이가 크다고 얘기한다. \n",
        "\n",
        "경사하강법은 스케일에 민감하기 때문에, 특성의 스케일을 맞추는 전처리과정을 거쳐야 한다."
      ]
    },
    {
      "cell_type": "code",
      "metadata": {
        "id": "ME728gIlOZKb",
        "colab_type": "code",
        "colab": {
          "base_uri": "https://localhost:8080/",
          "height": 297
        },
        "outputId": "cba690ca-e84e-47eb-cc6c-8d569ce66d81"
      },
      "source": [
        "# 훈련 데이터  준비하고 스케일 비교하기\n",
        "\n",
        "print(cancer.feature_names[[2, 3]])\n",
        "plt.boxplot(x_train[:, 2:4])\n",
        "plt.xlabel('feature')\n",
        "plt.ylabel('value')\n",
        "plt.show()"
      ],
      "execution_count": 9,
      "outputs": [
        {
          "output_type": "stream",
          "text": [
            "['mean perimeter' 'mean area']\n"
          ],
          "name": "stdout"
        },
        {
          "output_type": "display_data",
          "data": {
            "image/png": "[encoded data removed]",
            "text/plain": [
              "<Figure size 432x288 with 1 Axes>"
            ]
          },
          "metadata": {
            "tags": []
          }
        }
      ]
    },
    {
      "cell_type": "code",
      "metadata": {
        "id": "aWXB0yWkOvIG",
        "colab_type": "code",
        "colab": {}
      },
      "source": [
        "#가중치를 기록할 변수와 학습률 파라미터 추가하기\n",
        "\n",
        "def __init__(self, learning_rate=0.1):\n",
        "    self.w = None\n",
        "    self.b = None\n",
        "    self.losses = []\n",
        "    self.w_history = []\n",
        "    self.lr = learning_rate             # 하이퍼 파라미터, 학습률을 의미하는데, 이 값으로 가중치 업데이트 양을 조절하게 됨."
      ],
      "execution_count": 0,
      "outputs": []
    },
    {
      "cell_type": "code",
      "metadata": {
        "id": "k0CVLcM8PdEo",
        "colab_type": "code",
        "colab": {}
      },
      "source": [
        ""
      ],
      "execution_count": 0,
      "outputs": []
    }
  ]
}