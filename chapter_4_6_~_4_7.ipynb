{
  "nbformat": 4,
  "nbformat_minor": 0,
  "metadata": {
    "colab": {
      "name": "chapter 4.6 ~ 4.7",
      "provenance": [],
      "authorship_tag": "ABX9TyPfiz4uGxhFFjNCfqtdyD9P",
      "include_colab_link": true
    },
    "kernelspec": {
      "name": "python3",
      "display_name": "Python 3"
    }
  },
  "cells": [
    {
      "cell_type": "markdown",
      "metadata": {
        "id": "view-in-github",
        "colab_type": "text"
      },
      "source": [
        "<a href=\"https://colab.research.google.com/github/junuimoon/DoitDeeplearning/blob/master/chapter_4_6_~_4_7.ipynb\" target=\"_parent\"><img src=\"https://colab.research.google.com/assets/colab-badge.svg\" alt=\"Open In Colab\"/></a>"
      ]
    },
    {
      "cell_type": "code",
      "metadata": {
        "id": "vBp8iOA3emOY",
        "colab_type": "code",
        "colab": {}
      },
      "source": [
        "import numpy as np\n",
        "import matplotlib.pyplot as plt\n",
        "\n",
        "from sklearn.datasets import load_breast_cancer\n",
        "cancer = load_breast_cancer()\n",
        "x = cancer.data\n",
        "y = cancer.target\n",
        "from sklearn.model_selection import train_test_split\n",
        "\n",
        "x_train, x_test, y_train, y_test = train_test_split(x, y, stratify=y, test_size = 0.2, random_state=42)\n",
        "\n",
        "\n",
        "class SingleLayer:\n",
        "\n",
        "    def __init__(self): \n",
        "        self.w = None\n",
        "        self.b = None\n",
        "        self.lossess = []\n",
        "    \n",
        "    def forpass(self, x):\n",
        "        z = np.sum(x * self.w + self.b)                                         #직선 방정식 계산\n",
        "        return z\n",
        "\n",
        "    def backprop(self, x, err):\n",
        "        w_grad = x * err                                                        # 가중치에 대한 그레디언트 계산\n",
        "        b_grad = 1 * err                                                        # 절편에 대한 그레디언트 계산\n",
        "        return w_grad, b_grad\n",
        "\n",
        "    def add_bias(self, x):                                                      # 행렬의 맨 앞에 1로 채워진 열 벡터를 추가한다.\n",
        "        return np.c_[np.ones((x.shape[0], 1)), x]\n",
        "\n",
        "    def fit(self, x, y, epochs=100):                                            \n",
        "        self.w = np.ones(x.shape[1])                                            # 가중치를 초기화한다.           \n",
        "        self.b = 0                                                              # 절편을 초기화한다.\n",
        "        for i in range(epochs):\n",
        "            loss = 0\n",
        "            indexes = np.random.permutatuon(np.arange(len(x)))                  # 인덱스를 섞는다.\n",
        "            for i in indexes:                                \n",
        "                for x_i, y_i in zip(x, y):                       \n",
        "                    z = self.forpass(x[i])                                      # 정방향 계산                   \n",
        "                    a = self.activation(z)                                      # 활성화 함수 적용\n",
        "                    err = -(y[i] - a)                                           # 오차 계산\n",
        "                    w_grad, b_grad = self.backprop(x[i], err)                   # 역방향 계산\n",
        "                    self.w -= w_grad                                            # 가중치 업데이트\n",
        "                    self.b -= b_grad                                            # 절편 업데이트\n",
        "                    a = np.clip(a, 1e-10, 1-1e-10)                              # 안전한 로그 게산을 위해서 클리핑한 후에 손실을 누적한다.\n",
        "                    loss += -(y[i]*np.log(a)+(1-y[i])*np.log(1-a))              # 에포크마다 평균 손실을 저장한다.\n",
        "            self.losses.append(loss/len(y))\n",
        "        \n",
        "    def activation(self, z):\n",
        "        a = 1 / ( 1 + np.exp(-z))\n",
        "        return a\n",
        "\n",
        "\n",
        "    def predict(self,x):\n",
        "        z = [self.forpass(x_i) for x_i in x]                                    # 정방향 계산\n",
        "        return np.array(z) > 0                                                  # 스텝 함수 적용\n",
        "       \n",
        "    def score(self, x, y):\n",
        "        return np.mean(self.predict(x) == y)"
      ],
      "execution_count": 0,
      "outputs": []
    },
    {
      "cell_type": "markdown",
      "metadata": {
        "id": "_T-YMgS0i-OR",
        "colab_type": "text"
      },
      "source": [
        "단일층 신경망 훈련하기"
      ]
    },
    {
      "cell_type": "code",
      "metadata": {
        "id": "DyqwsFQKnpPE",
        "colab_type": "code",
        "colab": {
          "base_uri": "https://localhost:8080/",
          "height": 352
        },
        "outputId": "da93e8c3-bbba-4ddf-b296-bd788f3a22ee"
      },
      "source": [
        "\n",
        "layer = SingleLayer()\n",
        "layer.fit(x_train, y_train)\n",
        "layer.score(x_test, y_test)"
      ],
      "execution_count": 10,
      "outputs": [
        {
          "output_type": "error",
          "ename": "AttributeError",
          "evalue": "ignored",
          "traceback": [
            "\u001b[0;31m---------------------------------------------------------------------------\u001b[0m",
            "\u001b[0;31mAttributeError\u001b[0m                            Traceback (most recent call last)",
            "\u001b[0;32m<ipython-input-10-59d239451bfd>\u001b[0m in \u001b[0;36m<module>\u001b[0;34m()\u001b[0m\n\u001b[1;32m      4\u001b[0m \u001b[0;34m\u001b[0m\u001b[0m\n\u001b[1;32m      5\u001b[0m \u001b[0mlayer\u001b[0m \u001b[0;34m=\u001b[0m \u001b[0mSingleLayer\u001b[0m\u001b[0;34m(\u001b[0m\u001b[0;34m)\u001b[0m\u001b[0;34m\u001b[0m\u001b[0;34m\u001b[0m\u001b[0m\n\u001b[0;32m----> 6\u001b[0;31m \u001b[0mlayer\u001b[0m\u001b[0;34m.\u001b[0m\u001b[0mfit\u001b[0m\u001b[0;34m(\u001b[0m\u001b[0mx_train\u001b[0m\u001b[0;34m,\u001b[0m \u001b[0my_train\u001b[0m\u001b[0;34m)\u001b[0m\u001b[0;34m\u001b[0m\u001b[0;34m\u001b[0m\u001b[0m\n\u001b[0m\u001b[1;32m      7\u001b[0m \u001b[0mlayer\u001b[0m\u001b[0;34m.\u001b[0m\u001b[0mscore\u001b[0m\u001b[0;34m(\u001b[0m\u001b[0mx_test\u001b[0m\u001b[0;34m,\u001b[0m \u001b[0my_test\u001b[0m\u001b[0;34m)\u001b[0m\u001b[0;34m\u001b[0m\u001b[0;34m\u001b[0m\u001b[0m\n",
            "\u001b[0;32m<ipython-input-9-d8489bda2d90>\u001b[0m in \u001b[0;36mfit\u001b[0;34m(self, x, y, epochs)\u001b[0m\n\u001b[1;32m     35\u001b[0m         \u001b[0;32mfor\u001b[0m \u001b[0mi\u001b[0m \u001b[0;32min\u001b[0m \u001b[0mrange\u001b[0m\u001b[0;34m(\u001b[0m\u001b[0mepochs\u001b[0m\u001b[0;34m)\u001b[0m\u001b[0;34m:\u001b[0m\u001b[0;34m\u001b[0m\u001b[0;34m\u001b[0m\u001b[0m\n\u001b[1;32m     36\u001b[0m             \u001b[0mloss\u001b[0m \u001b[0;34m=\u001b[0m \u001b[0;36m0\u001b[0m\u001b[0;34m\u001b[0m\u001b[0;34m\u001b[0m\u001b[0m\n\u001b[0;32m---> 37\u001b[0;31m             \u001b[0mindexes\u001b[0m \u001b[0;34m=\u001b[0m \u001b[0mnp\u001b[0m\u001b[0;34m.\u001b[0m\u001b[0mrandom\u001b[0m\u001b[0;34m.\u001b[0m\u001b[0mpermutatuon\u001b[0m\u001b[0;34m(\u001b[0m\u001b[0mnp\u001b[0m\u001b[0;34m.\u001b[0m\u001b[0marange\u001b[0m\u001b[0;34m(\u001b[0m\u001b[0mlen\u001b[0m\u001b[0;34m(\u001b[0m\u001b[0mx\u001b[0m\u001b[0;34m)\u001b[0m\u001b[0;34m)\u001b[0m\u001b[0;34m)\u001b[0m                  \u001b[0;31m# 인덱스를 섞는다.\u001b[0m\u001b[0;34m\u001b[0m\u001b[0;34m\u001b[0m\u001b[0m\n\u001b[0m\u001b[1;32m     38\u001b[0m             \u001b[0;32mfor\u001b[0m \u001b[0mi\u001b[0m \u001b[0;32min\u001b[0m \u001b[0mindexes\u001b[0m\u001b[0;34m:\u001b[0m\u001b[0;34m\u001b[0m\u001b[0;34m\u001b[0m\u001b[0m\n\u001b[1;32m     39\u001b[0m                 \u001b[0;32mfor\u001b[0m \u001b[0mx_i\u001b[0m\u001b[0;34m,\u001b[0m \u001b[0my_i\u001b[0m \u001b[0;32min\u001b[0m \u001b[0mzip\u001b[0m\u001b[0;34m(\u001b[0m\u001b[0mx\u001b[0m\u001b[0;34m,\u001b[0m \u001b[0my\u001b[0m\u001b[0;34m)\u001b[0m\u001b[0;34m:\u001b[0m\u001b[0;34m\u001b[0m\u001b[0;34m\u001b[0m\u001b[0m\n",
            "\u001b[0;31mAttributeError\u001b[0m: module 'numpy.random' has no attribute 'permutatuon'"
          ]
        }
      ]
    },
    {
      "cell_type": "code",
      "metadata": {
        "id": "WG1p8O1TnxCm",
        "colab_type": "code",
        "colab": {}
      },
      "source": [
        ""
      ],
      "execution_count": 0,
      "outputs": []
    }
  ]
}